{
  "nbformat": 4,
  "nbformat_minor": 0,
  "metadata": {
    "colab": {
      "name": "\bStrategy_prec.ipynb",
      "provenance": [],
      "authorship_tag": "ABX9TyOIeLltSu4MA5uuj+bjH86c",
      "include_colab_link": true
    },
    "kernelspec": {
      "name": "python3",
      "display_name": "Python 3"
    },
    "language_info": {
      "name": "python"
    },
    "accelerator": "GPU"
  },
  "cells": [
    {
      "cell_type": "markdown",
      "metadata": {
        "id": "view-in-github",
        "colab_type": "text"
      },
      "source": [
        "<a href=\"https://colab.research.google.com/github/tmsk0711/kaggle_prec/blob/main/%08Strategy_prec.ipynb\" target=\"_parent\"><img src=\"https://colab.research.google.com/assets/colab-badge.svg\" alt=\"Open In Colab\"/></a>"
      ]
    },
    {
      "cell_type": "code",
      "execution_count": null,
      "metadata": {
        "id": "EsDCid2dkl33"
      },
      "outputs": [],
      "source": [
        "from __future__ import absolute_import, division, print_function, unicode_literals\n",
        "\n",
        "import warnings\n",
        "warnings.simplefilter('ignore')\n",
        "import tensorflow as tf\n",
        "\n",
        "import numpy as np\n",
        "import os"
      ]
    },
    {
      "cell_type": "code",
      "source": [
        "fashion_mnist = tf.keras.datasets.fashion_mnist\n",
        "\n",
        "(train_images, train_labels), (test_images, test_labels) = fashion_mnist.load_data()\n",
        "\n",
        "\n",
        "# 하나의 차원을 배열에 추가 -> 새로운 shape == (28, 28, 1)\n",
        "# 이렇게 하는 이유는 우리의 모델에서 첫 번째 층이 합성곱 층이고\n",
        "# 합성곱 층은 4D 입력을 요구하기 때문입니다.\n",
        "# (batch_size, height, width, channels).\n",
        "# batch_size 차원은 나중에 추가할 것입니다.\n",
        "\n",
        "train_images = train_images[..., None]\n",
        "test_images = test_images[..., None]\n",
        "\n",
        "# 이미지를 [0, 1] 범위로 변경하기.\n",
        "train_images = train_images / np.float32(255)\n",
        "test_images = test_images / np.float32(255)"
      ],
      "metadata": {
        "colab": {
          "base_uri": "https://localhost:8080/"
        },
        "id": "e9-zyQ2okzjm",
        "outputId": "59a59cb5-e148-4e21-95c4-dec04e59953d"
      },
      "execution_count": null,
      "outputs": [
        {
          "output_type": "stream",
          "name": "stdout",
          "text": [
            "Downloading data from https://storage.googleapis.com/tensorflow/tf-keras-datasets/train-labels-idx1-ubyte.gz\n",
            "32768/29515 [=================================] - 0s 0us/step\n",
            "40960/29515 [=========================================] - 0s 0us/step\n",
            "Downloading data from https://storage.googleapis.com/tensorflow/tf-keras-datasets/train-images-idx3-ubyte.gz\n",
            "26427392/26421880 [==============================] - 0s 0us/step\n",
            "26435584/26421880 [==============================] - 0s 0us/step\n",
            "Downloading data from https://storage.googleapis.com/tensorflow/tf-keras-datasets/t10k-labels-idx1-ubyte.gz\n",
            "16384/5148 [===============================================================================================] - 0s 0us/step\n",
            "Downloading data from https://storage.googleapis.com/tensorflow/tf-keras-datasets/t10k-images-idx3-ubyte.gz\n",
            "4423680/4422102 [==============================] - 0s 0us/step\n",
            "4431872/4422102 [==============================] - 0s 0us/step\n"
          ]
        }
      ]
    },
    {
      "cell_type": "markdown",
      "source": [
        "# strategy.scope() ??\n",
        "https://www.tensorflow.org/api_docs/python/tf/distribute/Strategy\n",
        "\n",
        "> * 분산전략? 분산과관련된 처리를 한다?\n",
        "> * 모든 변수와 모델, 그래프는 strategy(지정한 변수)에 복제된다.\n",
        "> * strategy는 주어지는 입력에 대해서 손실(loss)와 gradient(가중치)를 계산한다.\n",
        "> * gradient(가중치)를 전부 더함으로써 모든 장치(GPU,TPU)간에 gradient(가중치)가 동기화 된다.\n",
        "> * 동기화된 후에, 동일한 업데이트가 각 장치에 있는 변수의 복사본(copies)에 동일하게 적용"
      ],
      "metadata": {
        "id": "wpLetQStlBr3"
      }
    },
    {
      "cell_type": "markdown",
      "source": [
        "# 결론\n",
        "> * 훈련을 여러 TPU,GPU로 나눠 처리하고 각자 장치간의 훈련손실, 가중치를 기록하고 계산하기 위함\n",
        "> * 나눠 처리된 훈련을 테스트 손실과 훈련 정확도,체크포인트,등 이해하고 처리 할 수 있다.\n",
        "> * MirroedStrategy를 사용하면 미러링된 변수들을 하나의 가상변수에 대응되어서, 모두 같은 값을 유지 된다고 한다."
      ],
      "metadata": {
        "id": "_AETA5yHrsHi"
      }
    },
    {
      "cell_type": "code",
      "source": [
        "# 만약 장치들의 목록이 `tf.distribute.MirroredStrategy` 생성자 안에 명시되어 있지 않다면,\n",
        "# 자동으로 장치를 인식할 것입니다.\n",
        "strategy = tf.distribute.MirroredStrategy()"
      ],
      "metadata": {
        "colab": {
          "base_uri": "https://localhost:8080/"
        },
        "id": "9lR9MsbAk7QW",
        "outputId": "c6ef9864-0a72-4028-ce31-bbef56f8654c"
      },
      "execution_count": null,
      "outputs": [
        {
          "output_type": "stream",
          "name": "stdout",
          "text": [
            "INFO:tensorflow:Using MirroredStrategy with devices ('/job:localhost/replica:0/task:0/device:GPU:0',)\n"
          ]
        }
      ]
    },
    {
      "cell_type": "code",
      "source": [
        "print ('장치의 수: {}'.format(strategy.num_replicas_in_sync))\n"
      ],
      "metadata": {
        "colab": {
          "base_uri": "https://localhost:8080/"
        },
        "id": "NLrSdsWblMl8",
        "outputId": "3839aa56-9482-456d-8e47-9852bb6b5828"
      },
      "execution_count": null,
      "outputs": [
        {
          "output_type": "stream",
          "name": "stdout",
          "text": [
            "장치의 수: 1\n"
          ]
        }
      ]
    },
    {
      "cell_type": "markdown",
      "source": [
        "# 입력 파이프 라인 설정\n",
        "> 그래프와 변수를 플랫폼과 무관한 SavedModel 형식으로 내보냅니다. 모델을 내보냈다면, 모델을 불러올 때 범위(scope)를 지정하지 않아도 된다."
      ],
      "metadata": {
        "id": "SwtaF4OtmKpK"
      }
    },
    {
      "cell_type": "code",
      "source": [
        "BUFFER_SIZE = len(train_images)\n",
        "BUFFER_SIZE # 60000\n",
        "\n",
        "BATCH_SIZE_PER_REPLICA = 64\n",
        "GLOBAL_BATCH_SIZE = BATCH_SIZE_PER_REPLICA * strategy.num_replicas_in_sync\n",
        "GLOBAL_BATCH_SIZE # 64\n",
        "\n",
        "EPOCHS = 10"
      ],
      "metadata": {
        "id": "AXmIEgbolOCV"
      },
      "execution_count": null,
      "outputs": []
    },
    {
      "cell_type": "markdown",
      "source": [
        ">분산 데이터셋들을 strategy.scope 내에 생성"
      ],
      "metadata": {
        "id": "K6AH-auomSBg"
      }
    },
    {
      "cell_type": "code",
      "source": [
        "with strategy.scope():\n",
        "\n",
        "    train_dataset = tf.data.Dataset.from_tensor_slices((train_images, train_labels)).shuffle(BUFFER_SIZE).batch(GLOBAL_BATCH_SIZE) \n",
        "    train_dist_dataset = strategy.experimental_distribute_dataset(train_dataset)\n",
        "  \n",
        "    test_dataset = tf.data.Dataset.from_tensor_slices((test_images, test_labels)).batch(GLOBAL_BATCH_SIZE) \n",
        "    test_dist_dataset = strategy.experimental_distribute_dataset(test_dataset)"
      ],
      "metadata": {
        "id": "nk1mc2nSlk4d"
      },
      "execution_count": null,
      "outputs": []
    },
    {
      "cell_type": "markdown",
      "source": [
        "# 모델 만들기\n",
        "> tf.keras.Sequential을 사용해서 모델을 생성"
      ],
      "metadata": {
        "id": "B5t_mtO7mpsh"
      }
    },
    {
      "cell_type": "code",
      "source": [
        "def create_model():\n",
        "  model = tf.keras.Sequential([\n",
        "        tf.keras.layers.Conv2D(32, 3, activation='relu'),\n",
        "        tf.keras.layers.MaxPooling2D(),\n",
        "        tf.keras.layers.Conv2D(64, 3, activation='relu'),\n",
        "        tf.keras.layers.MaxPooling2D(),\n",
        "        tf.keras.layers.Flatten(),\n",
        "        tf.keras.layers.Dense(64, activation='relu'),\n",
        "        tf.keras.layers.Dense(10, activation='softmax')\n",
        "  ])\n",
        "  \n",
        "  return model"
      ],
      "metadata": {
        "id": "3DUXc5ZtmhPP"
      },
      "execution_count": null,
      "outputs": []
    },
    {
      "cell_type": "code",
      "source": [
        ""
      ],
      "metadata": {
        "id": "l2jhNWwL-j7D"
      },
      "execution_count": null,
      "outputs": []
    },
    {
      "cell_type": "code",
      "source": [
        ""
      ],
      "metadata": {
        "id": "mXQGo_qsFblZ"
      },
      "execution_count": null,
      "outputs": []
    },
    {
      "cell_type": "code",
      "source": [
        ""
      ],
      "metadata": {
        "id": "g1Jup8hXMTIA"
      },
      "execution_count": null,
      "outputs": []
    },
    {
      "cell_type": "code",
      "source": [
        ""
      ],
      "metadata": {
        "id": "zobpbgOjTNMx"
      },
      "execution_count": null,
      "outputs": []
    },
    {
      "cell_type": "code",
      "source": [
        ""
      ],
      "metadata": {
        "id": "7CcMMieciWX7"
      },
      "execution_count": null,
      "outputs": []
    },
    {
      "cell_type": "code",
      "source": [
        "# 체크 포인트를 저장하기 위해 체크포인트 디렉토리 생성\n",
        "checkpoint_dir = './training_checkpoints'\n",
        "checkpoint_prefix = os.path.join(checkpoint_dir,'ckpt')"
      ],
      "metadata": {
        "id": "SuXirmyqm6AZ"
      },
      "execution_count": null,
      "outputs": []
    },
    {
      "cell_type": "markdown",
      "source": [
        "# 손실 함수 정의하기\n",
        "> 일반적으로, GPU/CPU 비율이 1인 단일 장치에서 손실은 입력 배치(batch)의 샘플 개수로 나누어 진다.\n",
        "tf.distribute.Strategy를 사용할 때, 손실은 어떻게 계산되어야 할까?\n",
        "* 예를들면, 4개의 GPU가 있고 입력 배치 크기가 64라고 하죠. 입력 배치 하나가 여러 개의 장치(4개의 GPU)에 분배됩니다. 각 장치는 배치 크기가 16인 입력을 받는다.\n",
        "* 각 장치에 있는 모델은 해당 입력에 대해 정방향 계산(forward pass)을 수행하고 손실을 계산합니다. 손실을 장치에 할당된 입력 샘플의 수(BATCH_SIZE_PER_REPLICA = 16)로 나누는 것이 아니라 GLOBAL_BATCH_SIZE(64)로 나누어야 한다.\n",
        "* 위와 같이 계산하는 이유는 그래디언트들이 각 장치에서 계산된 다음, **`모든 장치를 동기화하기 위해 이 그래디언트 값들을 전부 더하기 때문`**이다."
      ],
      "metadata": {
        "id": "aa3oQ54AnSI8"
      }
    },
    {
      "cell_type": "code",
      "source": [
        "with strategy.scope():\n",
        "    # reduction을 `none`으로 설정합니다. 그래서 우리는 축소를 나중에 하고,\n",
        "    # GLOBAL_BATCH_SIZE로 나눌 수 있습니다.\n",
        "  loss_object = tf.keras.losses.SparseCategoricalCrossentropy(\n",
        "      reduction = tf.keras.losses.Reduction.NONE)\n",
        "\n"
      ],
      "metadata": {
        "id": "0QbXD_6inJ_m"
      },
      "execution_count": null,
      "outputs": []
    },
    {
      "cell_type": "code",
      "source": [
        ""
      ],
      "metadata": {
        "id": "8wa7WsbZo5RS"
      },
      "execution_count": null,
      "outputs": []
    }
  ]
}